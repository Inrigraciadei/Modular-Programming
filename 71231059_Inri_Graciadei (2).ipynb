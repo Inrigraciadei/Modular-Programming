{
  "nbformat": 4,
  "nbformat_minor": 0,
  "metadata": {
    "colab": {
      "provenance": []
    },
    "kernelspec": {
      "name": "python3",
      "display_name": "Python 3"
    },
    "language_info": {
      "name": "python"
    }
  },
  "cells": [
    {
      "cell_type": "code",
      "execution_count": null,
      "metadata": {
        "id": "ZptzmLBNcxVC"
      },
      "outputs": [],
      "source": []
    },
    {
      "cell_type": "markdown",
      "source": [
        "Soal 1"
      ],
      "metadata": {
        "id": "jijLSJaiqphn"
      }
    },
    {
      "cell_type": "code",
      "source": [
        "def cek_angka():\n",
        "\n",
        "    a = int(input(\"Masukkan angka pertama:  \"))\n",
        "    b = int(input(\"Masukkan angka kedua: \"))\n",
        "    c = int(input(\"Masukkan angka ketiga: \"))\n",
        "\n",
        "    if (a != b != c) and (a + b == c or a + c == b or b + c == a):\n",
        "        return True\n",
        "    else:\n",
        "        return False\n",
        "\n",
        "print(cek_angka())"
      ],
      "metadata": {
        "colab": {
          "base_uri": "https://localhost:8080/"
        },
        "id": "fjr2Vxbgqrz1",
        "outputId": "1ee0944c-4a09-4fcb-b007-96cc79f44c61"
      },
      "execution_count": 1,
      "outputs": [
        {
          "output_type": "stream",
          "name": "stdout",
          "text": [
            "Masukkan angka pertama:  2\n",
            "Masukkan angka kedua: 4\n",
            "Masukkan angka ketiga: 6\n",
            "True\n"
          ]
        }
      ]
    },
    {
      "cell_type": "markdown",
      "source": [
        "Soal 2"
      ],
      "metadata": {
        "id": "MfgeW08LrKvt"
      }
    },
    {
      "cell_type": "code",
      "source": [
        "def cek_digit_belakang():\n",
        "\n",
        "    satu = int(input(\"Masukkan angka pertama: \"))\n",
        "    dua = int(input(\"Masukkan angka kedua: \"))\n",
        "    tiga = int(input(\"Masukkan angka ketiga: \"))\n",
        "\n",
        "    a = satu % 10\n",
        "    b = dua % 10\n",
        "    c = tiga % 10\n",
        "\n",
        "    if a == b != c or a == c != b or b == c != a:\n",
        "        return True\n",
        "    elif a == b == c:\n",
        "        return True\n",
        "    else:\n",
        "        return False\n",
        "\n",
        "print(cek_digit_belakang())"
      ],
      "metadata": {
        "colab": {
          "base_uri": "https://localhost:8080/"
        },
        "id": "UmPF62lKrL6o",
        "outputId": "87953c12-ed32-4525-ad79-58b9478c83db"
      },
      "execution_count": 3,
      "outputs": [
        {
          "output_type": "stream",
          "name": "stdout",
          "text": [
            "Masukkan angka pertama: 30\n",
            "Masukkan angka kedua: 20\n",
            "Masukkan angka ketiga: 18\n",
            "True\n"
          ]
        }
      ]
    },
    {
      "cell_type": "markdown",
      "source": [
        "Soal 3"
      ],
      "metadata": {
        "id": "eXFcBA7ErqJ7"
      }
    },
    {
      "cell_type": "code",
      "source": [
        "celcius_fahrenheit = lambda suhu : (9/5) * suhu + 32\n",
        "celcius_reamur = lambda suhu : 0.8 * suhu\n",
        "\n",
        "print(\"suhu = 100\", \"F =\", celcius_fahrenheit(100))\n",
        "print(\"suhu = 80\", \"R =\", celcius_reamur(80))\n",
        "print(\"suhu = 0\", \"F =\", celcius_fahrenheit(0))"
      ],
      "metadata": {
        "colab": {
          "base_uri": "https://localhost:8080/"
        },
        "id": "0JVYtXuzrrN3",
        "outputId": "8784eac0-a895-4262-e033-e32a887da715"
      },
      "execution_count": 5,
      "outputs": [
        {
          "output_type": "stream",
          "name": "stdout",
          "text": [
            "suhu = 100 F = 212.0\n",
            "suhu = 80 R = 64.0\n",
            "suhu = 0 F = 32.0\n"
          ]
        }
      ]
    }
  ]
}